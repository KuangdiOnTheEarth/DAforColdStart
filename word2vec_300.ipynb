{
 "cells": [
  {
   "cell_type": "code",
   "execution_count": 1,
   "metadata": {
    "collapsed": true
   },
   "outputs": [],
   "source": [
    "import random\n",
    "\n",
    "import numpy as np\n",
    "from gensim.models.word2vec import Word2Vec\n",
    "import gensim.downloader as api"
   ]
  },
  {
   "cell_type": "code",
   "execution_count": 2,
   "outputs": [],
   "source": [
    "# corpus = api.load('text8')  # download the corpus and return it opened as an iterable\n",
    "# word2vec = Word2Vec(corpus, vector_size=100)  # train a model from the corpus\n",
    "\n",
    "info = api.info()  # show info about available models/datasets\n",
    "word2vec = api.load(\"glove-wiki-gigaword-100\")"
   ],
   "metadata": {
    "collapsed": false,
    "pycharm": {
     "name": "#%%\n"
    }
   }
  },
  {
   "cell_type": "code",
   "execution_count": 3,
   "outputs": [
    {
     "data": {
      "text/plain": "array([-1.0239   ,  0.31711  ,  0.32645  , -0.21064  ,  0.28183  ,\n       -0.045844 ,  0.69035  ,  0.13584  , -0.28214  , -0.27415  ,\n        0.43748  , -0.50725  , -0.023477 ,  0.38268  ,  0.25041  ,\n       -0.42515  ,  0.048989 , -0.50624  ,  0.20183  , -0.20446  ,\n        0.48532  ,  0.96227  ,  0.073216 , -0.20945  , -0.15535  ,\n        1.1081   ,  0.34316  , -0.28191  , -0.16772  ,  0.21148  ,\n        0.16443  ,  0.62912  ,  0.34025  ,  0.82183  , -0.30162  ,\n        0.92553  , -0.28931  , -0.35684  ,  0.55665  , -0.57464  ,\n        0.11891  , -0.6799   , -0.35478  , -0.99149  ,  0.60496  ,\n       -0.023199 , -0.57014  , -0.04316  ,  0.74405  , -0.95329  ,\n       -0.0031113, -0.10723  , -0.57443  ,  0.39808  , -0.053929 ,\n       -2.492    ,  0.49922  ,  0.79235  ,  1.3588   ,  0.39502  ,\n       -0.098789 ,  1.0618   , -0.2236   ,  0.26782  ,  1.0612   ,\n        0.11189  ,  0.87032  , -0.84204  ,  0.27031  , -0.77449  ,\n       -0.12172  , -0.28352  ,  0.043281 ,  1.2128   , -0.39736  ,\n        0.59443  ,  0.28749  , -0.56536  ,  0.36881  , -0.20145  ,\n        0.87858  , -0.008321 , -0.61922  ,  0.59498  , -0.33904  ,\n       -0.40012  , -0.11499  ,  0.31643  ,  0.14012  , -0.12136  ,\n       -0.031145 ,  0.66056  , -0.41542  , -0.098416 , -0.72832  ,\n        0.12195  , -0.96401  ,  0.29931  ,  0.43199  ,  0.29317  ],\n      dtype=float32)"
     },
     "execution_count": 3,
     "metadata": {},
     "output_type": "execute_result"
    }
   ],
   "source": [
    "# word2vec = word2vec.wv\n",
    "# wikigiga_model.save(\"word2vec/glove-wiki-gigaword-100.model\")\n",
    "word2vec.has_index_for(\"Nightmare\")\n",
    "# wikigiga_model.most_similar(\"nightmare\")\n",
    "word2vec.get_vector(\"hot\")\n",
    "# len(wikigiga_model.word_vec(\"hot\"))"
   ],
   "metadata": {
    "collapsed": false,
    "pycharm": {
     "name": "#%%\n"
    }
   }
  },
  {
   "cell_type": "code",
   "execution_count": 6,
   "outputs": [],
   "source": [
    "import codecs\n",
    "# read mapping from genre_id to genre_names\n",
    "genre_dict = {}\n",
    "f = open('data/ml-1m/formatted/genres.txt', 'r')\n",
    "for line in f:\n",
    "    line_seg = line.rstrip().split(' ')\n",
    "    genre_dict[int(line_seg[0])] = line_seg[1] # int(gen_id) -> str(gen_type)\n",
    "\n",
    "# read title and genre strings for movies\n",
    "movies = {}\n",
    "genres = {}\n",
    "cs_items = []\n",
    "f = codecs.open('data/ml-1m/formatted/movies.txt', 'r', encoding='iso-8859-15')\n",
    "for line in f:\n",
    "    line_seg = line.rstrip().split('::')\n",
    "    id = int(line_seg[0])\n",
    "    movies[id] = line_seg[1]\n",
    "    gen_id_strs = line_seg[3].split(',')\n",
    "    if len(gen_id_strs) == 0:\n",
    "        gen_str = ''\n",
    "    else:\n",
    "        gen_str = genre_dict[int(gen_id_strs[0])]\n",
    "        for i in range(1, len(gen_id_strs)):\n",
    "            gen_str += (' ' + genre_dict[int(gen_id_strs[i])])\n",
    "    genres[id] = gen_str\n",
    "\n",
    "# read cold-start movies\n",
    "f = open('data/ml-1m/splits/cs_item_list.txt', 'r')\n",
    "for line in f:\n",
    "    cs_items.append(int(line.rstrip()))\n",
    "\n",
    "# read stopwords\n",
    "stopwords = []\n",
    "f = open('word2vec/stopwords_English.txt', 'r')\n",
    "for line in f:\n",
    "    stopwords.append(line.rstrip())"
   ],
   "metadata": {
    "collapsed": false,
    "pycharm": {
     "name": "#%%\n"
    }
   }
  },
  {
   "cell_type": "code",
   "execution_count": 7,
   "outputs": [
    {
     "name": "stdout",
     "output_type": "stream",
     "text": [
      "about\n",
      "Bat, The (Horror) -- cs:True\n"
     ]
    }
   ],
   "source": [
    "print(stopwords[3])\n",
    "test_mid = 3431\n",
    "print(\"%s (%s) -- cs:%s\" % (movies[test_mid], genres[test_mid], test_mid in cs_items))"
   ],
   "metadata": {
    "collapsed": false,
    "pycharm": {
     "name": "#%%\n"
    }
   }
  },
  {
   "cell_type": "code",
   "execution_count": 15,
   "outputs": [],
   "source": [
    "def get_avg_vector(model, stopwords, text):\n",
    "    valid_words = 0\n",
    "    sum_vec = np.zeros(100)\n",
    "    for word in text.lower().rstrip().split(' '):\n",
    "        if word not in stopwords and model.has_index_for(word):\n",
    "            valid_words += 1\n",
    "            sum_vec += model.get_vector(word)\n",
    "    return (sum_vec / valid_words) if valid_words > 0 else sum_vec\n",
    "\n",
    "cs_movie_vectors = {}\n",
    "ws_movie_vectors = {} # word vectors of all non-cold-start movies\n",
    "                         # [avg of title word vectors : avg of genre vectors]\n",
    "for mid in movies:\n",
    "    if mid in cs_items: continue\n",
    "    m_title = movies[mid]\n",
    "    m_genres = genres[mid]\n",
    "    ws_movie_vectors[mid] = get_avg_vector(word2vec, stopwords, m_genres)\n",
    "    # ws_movie_vectors[mid] = np.concatenate(\n",
    "    #     (get_avg_vector(word2vec, stopwords, m_title),\n",
    "    #      get_avg_vector(word2vec, stopwords, m_genres)), axis=0)\n",
    "for mid in cs_items:\n",
    "    m_title = movies[mid]\n",
    "    m_genres = genres[mid]\n",
    "    cs_movie_vectors[mid] = get_avg_vector(word2vec, stopwords, m_genres)\n",
    "    # cs_movie_vectors[mid] = np.concatenate(\n",
    "    #     (get_avg_vector(word2vec, stopwords, m_title),\n",
    "    #      get_avg_vector(word2vec, stopwords, m_genres)), axis=0)"
   ],
   "metadata": {
    "collapsed": false,
    "pycharm": {
     "name": "#%%\n"
    }
   }
  },
  {
   "cell_type": "code",
   "execution_count": 16,
   "outputs": [],
   "source": [
    "similar_items = {} # mid -> [similar ids]\n",
    "for csid in cs_items:\n",
    "    cs_vector = cs_movie_vectors[csid]\n",
    "    similarity = {}\n",
    "    for wsid in ws_movie_vectors:\n",
    "        similarity[wsid] = np.linalg.norm(cs_vector - ws_movie_vectors[wsid])\n",
    "    similar_items[csid] = []\n",
    "    for i in range(3):\n",
    "        sid, _ = min(similarity.items(), key=lambda x: x[1])\n",
    "        similar_items[csid].append(sid)\n",
    "        similarity.pop(sid)"
   ],
   "metadata": {
    "collapsed": false,
    "pycharm": {
     "name": "#%%\n"
    }
   }
  },
  {
   "cell_type": "code",
   "execution_count": 17,
   "outputs": [
    {
     "name": "stdout",
     "output_type": "stream",
     "text": [
      "3235:Alien Escape (Horror Sci-Fi) -- cs:True\n",
      "Top similar items:\n",
      "269:Faculty, The (Horror Sci-Fi) -- cs:False\n",
      "295:Night of the Living Dead (Horror Sci-Fi) -- cs:False\n",
      "949:Invisible Man, The (Horror Sci-Fi) -- cs:False\n",
      "100\n"
     ]
    }
   ],
   "source": [
    "test_id = 3235\n",
    "test_similar_ids = similar_items[test_id]\n",
    "print(\"%d:%s (%s) -- cs:%s\" % (test_id, movies[test_id], genres[test_id], test_id in cs_items))\n",
    "print(\"Top similar items:\")\n",
    "for sid in test_similar_ids:\n",
    "    print(\"%d:%s (%s) -- cs:%s\" % (sid, movies[sid], genres[sid], sid in cs_items))\n",
    "print(len(word2vec.get_vector('hot')))"
   ],
   "metadata": {
    "collapsed": false,
    "pycharm": {
     "name": "#%%\n"
    }
   }
  },
  {
   "cell_type": "code",
   "execution_count": 19,
   "outputs": [
    {
     "name": "stdout",
     "output_type": "stream",
     "text": [
      "Done\n"
     ]
    }
   ],
   "source": [
    "output_f = open('data/ml-1m/similar_items/wikigiga_100_genre.txt', 'w')\n",
    "for csid in cs_items:\n",
    "    synonyms_str = ''\n",
    "    for sid in similar_items[csid]: synonyms_str += (' ' + str(sid))\n",
    "    output_f.write(\"%s%s\\n\" % (csid, synonyms_str))\n",
    "output_f.close()\n",
    "print('Done')"
   ],
   "metadata": {
    "collapsed": false,
    "pycharm": {
     "name": "#%%\n"
    }
   }
  },
  {
   "cell_type": "code",
   "execution_count": 32,
   "outputs": [
    {
     "data": {
      "text/plain": "False"
     },
     "execution_count": 32,
     "metadata": {},
     "output_type": "execute_result"
    }
   ],
   "source": [
    "len(word2vec) # text8\n",
    "2682 in list(ws_movie_vectors)"
   ],
   "metadata": {
    "collapsed": false,
    "pycharm": {
     "name": "#%%\n"
    }
   }
  },
  {
   "cell_type": "code",
   "execution_count": 34,
   "outputs": [
    {
     "name": "stdout",
     "output_type": "stream",
     "text": [
      "Done\n"
     ]
    }
   ],
   "source": [
    "output_f = open('data/ml-1m/similar_items/random_con.txt', 'w')\n",
    "for csid in cs_items:\n",
    "    similar_items = random.sample(list(ws_movie_vectors), 3)\n",
    "    synonyms_str = ''\n",
    "    for sid in similar_items: synonyms_str += (' ' + str(sid))\n",
    "    output_f.write(\"%s%s\\n\" % (csid, synonyms_str))\n",
    "output_f.close()\n",
    "print('Done')"
   ],
   "metadata": {
    "collapsed": false,
    "pycharm": {
     "name": "#%%\n"
    }
   }
  }
 ],
 "metadata": {
  "kernelspec": {
   "display_name": "Python 3",
   "language": "python",
   "name": "python3"
  },
  "language_info": {
   "codemirror_mode": {
    "name": "ipython",
    "version": 2
   },
   "file_extension": ".py",
   "mimetype": "text/x-python",
   "name": "python",
   "nbconvert_exporter": "python",
   "pygments_lexer": "ipython2",
   "version": "2.7.6"
  }
 },
 "nbformat": 4,
 "nbformat_minor": 0
}